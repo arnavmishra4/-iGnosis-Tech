{
 "cells": [
  {
   "cell_type": "markdown",
   "metadata": {},
   "source": [
    "# Dataset Column Descriptions\n",
    "\n",
    "This dataset contains transaction and customer information, including purchase details and customer segmentation.\n",
    "\n",
    "## **Transaction Details**\n",
    "- **`DATE`** → The date when the transaction took place.  \n",
    "- **`STORE_NBR`** → Store number where the purchase was made.  \n",
    "- **`LYLTY_CARD_NBR`** → Unique loyalty card number assigned to a customer.  \n",
    "- **`TXN_ID`** → Unique transaction ID representing a single purchase event.  \n",
    "- **`PROD_NBR`** → Unique product number (ID) for the purchased item.  \n",
    "- **`PROD_NAME`** → Name of the purchased product.  \n",
    "- **`PROD_QTY`** → Quantity of the product purchased in the transaction.  \n",
    "- **`TOT_SALES`** → Total amount spent on the transaction (price × quantity).  \n",
    "\n",
    "## **Customer Segmentation**\n",
    "- **`LIFESTAGE`** → Customer's life stage (e.g., Young Singles, Older Families).  \n",
    "- **`PREMIUM_CUSTOMER`** → Customer segment based on spending habits (`Premium`, `Mainstream`, `Budget`).  \n",
    "\n",
    "---\n",
    "\n",
    "### **Usage Notes**\n",
    "- Use `TXN_ID` to track individual purchases and analyze customer frequency.  \n",
    "- `LYLTY_CARD_NBR` helps group transactions by customer for loyalty analysis.  \n",
    "- `TOT_SALES` and `PROD_QTY` can be used to identify the most profitable products.  \n",
    "- `LIFESTAGE` and `PREMIUM_CUSTOMER` are useful for targeted marketing strategies.  \n"
   ]
  },
  {
   "cell_type": "markdown",
   "metadata": {},
   "source": [
    "### Exploring purchase_behaviour\n",
    "- We see that both the dataset have Loyalty Card number (LYLTY_CARD_NBR) as a common columns , so we will compare both and create a singe dataset which we can use for our analysis."
   ]
  },
  {
   "cell_type": "code",
   "execution_count": null,
   "metadata": {},
   "outputs": [],
   "source": [
    "import pandas as pd "
   ]
  },
  {
   "cell_type": "code",
   "execution_count": null,
   "metadata": {},
   "outputs": [],
   "source": [
    "pb = pd.read_csv('purchase_behaviour.csv')\n",
    "transaction = pd.read_csv('transaction_data.csv')"
   ]
  },
  {
   "cell_type": "code",
   "execution_count": 3,
   "metadata": {},
   "outputs": [
    {
     "data": {
      "text/html": [
       "<div>\n",
       "<style scoped>\n",
       "    .dataframe tbody tr th:only-of-type {\n",
       "        vertical-align: middle;\n",
       "    }\n",
       "\n",
       "    .dataframe tbody tr th {\n",
       "        vertical-align: top;\n",
       "    }\n",
       "\n",
       "    .dataframe thead th {\n",
       "        text-align: right;\n",
       "    }\n",
       "</style>\n",
       "<table border=\"1\" class=\"dataframe\">\n",
       "  <thead>\n",
       "    <tr style=\"text-align: right;\">\n",
       "      <th></th>\n",
       "      <th>LYLTY_CARD_NBR</th>\n",
       "      <th>LIFESTAGE</th>\n",
       "      <th>PREMIUM_CUSTOMER</th>\n",
       "    </tr>\n",
       "  </thead>\n",
       "  <tbody>\n",
       "    <tr>\n",
       "      <th>0</th>\n",
       "      <td>1000</td>\n",
       "      <td>YOUNG SINGLES/COUPLES</td>\n",
       "      <td>Premium</td>\n",
       "    </tr>\n",
       "    <tr>\n",
       "      <th>1</th>\n",
       "      <td>1002</td>\n",
       "      <td>YOUNG SINGLES/COUPLES</td>\n",
       "      <td>Mainstream</td>\n",
       "    </tr>\n",
       "    <tr>\n",
       "      <th>2</th>\n",
       "      <td>1003</td>\n",
       "      <td>YOUNG FAMILIES</td>\n",
       "      <td>Budget</td>\n",
       "    </tr>\n",
       "    <tr>\n",
       "      <th>3</th>\n",
       "      <td>1004</td>\n",
       "      <td>OLDER SINGLES/COUPLES</td>\n",
       "      <td>Mainstream</td>\n",
       "    </tr>\n",
       "    <tr>\n",
       "      <th>4</th>\n",
       "      <td>1005</td>\n",
       "      <td>MIDAGE SINGLES/COUPLES</td>\n",
       "      <td>Mainstream</td>\n",
       "    </tr>\n",
       "    <tr>\n",
       "      <th>...</th>\n",
       "      <td>...</td>\n",
       "      <td>...</td>\n",
       "      <td>...</td>\n",
       "    </tr>\n",
       "    <tr>\n",
       "      <th>72632</th>\n",
       "      <td>2370651</td>\n",
       "      <td>MIDAGE SINGLES/COUPLES</td>\n",
       "      <td>Mainstream</td>\n",
       "    </tr>\n",
       "    <tr>\n",
       "      <th>72633</th>\n",
       "      <td>2370701</td>\n",
       "      <td>YOUNG FAMILIES</td>\n",
       "      <td>Mainstream</td>\n",
       "    </tr>\n",
       "    <tr>\n",
       "      <th>72634</th>\n",
       "      <td>2370751</td>\n",
       "      <td>YOUNG FAMILIES</td>\n",
       "      <td>Premium</td>\n",
       "    </tr>\n",
       "    <tr>\n",
       "      <th>72635</th>\n",
       "      <td>2370961</td>\n",
       "      <td>OLDER FAMILIES</td>\n",
       "      <td>Budget</td>\n",
       "    </tr>\n",
       "    <tr>\n",
       "      <th>72636</th>\n",
       "      <td>2373711</td>\n",
       "      <td>YOUNG SINGLES/COUPLES</td>\n",
       "      <td>Mainstream</td>\n",
       "    </tr>\n",
       "  </tbody>\n",
       "</table>\n",
       "<p>72637 rows × 3 columns</p>\n",
       "</div>"
      ],
      "text/plain": [
       "       LYLTY_CARD_NBR               LIFESTAGE PREMIUM_CUSTOMER\n",
       "0                1000   YOUNG SINGLES/COUPLES          Premium\n",
       "1                1002   YOUNG SINGLES/COUPLES       Mainstream\n",
       "2                1003          YOUNG FAMILIES           Budget\n",
       "3                1004   OLDER SINGLES/COUPLES       Mainstream\n",
       "4                1005  MIDAGE SINGLES/COUPLES       Mainstream\n",
       "...               ...                     ...              ...\n",
       "72632         2370651  MIDAGE SINGLES/COUPLES       Mainstream\n",
       "72633         2370701          YOUNG FAMILIES       Mainstream\n",
       "72634         2370751          YOUNG FAMILIES          Premium\n",
       "72635         2370961          OLDER FAMILIES           Budget\n",
       "72636         2373711   YOUNG SINGLES/COUPLES       Mainstream\n",
       "\n",
       "[72637 rows x 3 columns]"
      ]
     },
     "execution_count": 3,
     "metadata": {},
     "output_type": "execute_result"
    }
   ],
   "source": [
    "pb"
   ]
  },
  {
   "cell_type": "code",
   "execution_count": 4,
   "metadata": {},
   "outputs": [
    {
     "name": "stdout",
     "output_type": "stream",
     "text": [
      "<class 'pandas.core.frame.DataFrame'>\n",
      "RangeIndex: 72637 entries, 0 to 72636\n",
      "Data columns (total 3 columns):\n",
      " #   Column            Non-Null Count  Dtype \n",
      "---  ------            --------------  ----- \n",
      " 0   LYLTY_CARD_NBR    72637 non-null  int64 \n",
      " 1   LIFESTAGE         72637 non-null  object\n",
      " 2   PREMIUM_CUSTOMER  72637 non-null  object\n",
      "dtypes: int64(1), object(2)\n",
      "memory usage: 1.7+ MB\n"
     ]
    }
   ],
   "source": [
    "pb.info()"
   ]
  },
  {
   "cell_type": "code",
   "execution_count": 5,
   "metadata": {},
   "outputs": [
    {
     "data": {
      "text/plain": [
       "LYLTY_CARD_NBR      0\n",
       "LIFESTAGE           0\n",
       "PREMIUM_CUSTOMER    0\n",
       "dtype: int64"
      ]
     },
     "execution_count": 5,
     "metadata": {},
     "output_type": "execute_result"
    }
   ],
   "source": [
    "pb.isnull().sum()"
   ]
  },
  {
   "cell_type": "code",
   "execution_count": 6,
   "metadata": {},
   "outputs": [
    {
     "data": {
      "text/plain": [
       "Index(['DATE', 'STORE_NBR', 'LYLTY_CARD_NBR', 'TXN_ID', 'PROD_NBR',\n",
       "       'PROD_NAME', 'PROD_QTY', 'TOT_SALES'],\n",
       "      dtype='object')"
      ]
     },
     "execution_count": 6,
     "metadata": {},
     "output_type": "execute_result"
    }
   ],
   "source": [
    "transaction.columns"
   ]
  },
  {
   "cell_type": "code",
   "execution_count": 7,
   "metadata": {},
   "outputs": [
    {
     "data": {
      "text/plain": [
       "DATE              0\n",
       "STORE_NBR         0\n",
       "LYLTY_CARD_NBR    0\n",
       "TXN_ID            0\n",
       "PROD_NBR          0\n",
       "PROD_NAME         0\n",
       "PROD_QTY          0\n",
       "TOT_SALES         0\n",
       "dtype: int64"
      ]
     },
     "execution_count": 7,
     "metadata": {},
     "output_type": "execute_result"
    }
   ],
   "source": [
    "transaction.isnull().sum()"
   ]
  },
  {
   "cell_type": "code",
   "execution_count": 8,
   "metadata": {},
   "outputs": [],
   "source": [
    "common_cards = set(pd.Series(pb['LYLTY_CARD_NBR']).unique()).intersection(set(pd.Series(transaction['LYLTY_CARD_NBR']).unique()))"
   ]
  },
  {
   "cell_type": "code",
   "execution_count": 9,
   "metadata": {},
   "outputs": [],
   "source": [
    "only_in_purchase = set(pb[\"LYLTY_CARD_NBR\"]) - set(transaction[\"LYLTY_CARD_NBR\"])\n",
    "only_in_transaction = set(transaction[\"LYLTY_CARD_NBR\"]) - set(pb[\"LYLTY_CARD_NBR\"])"
   ]
  },
  {
   "cell_type": "code",
   "execution_count": 10,
   "metadata": {},
   "outputs": [],
   "source": [
    "only_in_purchase_count = len(only_in_purchase)\n",
    "only_in_transaction_count = len(only_in_transaction)"
   ]
  },
  {
   "cell_type": "code",
   "execution_count": 11,
   "metadata": {},
   "outputs": [
    {
     "name": "stdout",
     "output_type": "stream",
     "text": [
      "Number of card numbers only in purchase data: 0\n",
      "Number of card numbers only in transaction data: 0\n"
     ]
    }
   ],
   "source": [
    "print(f\"Number of card numbers only in purchase data: {only_in_purchase_count}\")\n",
    "print(f\"Number of card numbers only in transaction data: {only_in_transaction_count}\")"
   ]
  },
  {
   "cell_type": "code",
   "execution_count": 12,
   "metadata": {},
   "outputs": [],
   "source": [
    "data = transaction.merge(pb, on='LYLTY_CARD_NBR', how='left')"
   ]
  },
  {
   "cell_type": "code",
   "execution_count": 25,
   "metadata": {},
   "outputs": [
    {
     "data": {
      "text/html": [
       "<div>\n",
       "<style scoped>\n",
       "    .dataframe tbody tr th:only-of-type {\n",
       "        vertical-align: middle;\n",
       "    }\n",
       "\n",
       "    .dataframe tbody tr th {\n",
       "        vertical-align: top;\n",
       "    }\n",
       "\n",
       "    .dataframe thead th {\n",
       "        text-align: right;\n",
       "    }\n",
       "</style>\n",
       "<table border=\"1\" class=\"dataframe\">\n",
       "  <thead>\n",
       "    <tr style=\"text-align: right;\">\n",
       "      <th></th>\n",
       "      <th>DATE</th>\n",
       "      <th>STORE_NBR</th>\n",
       "      <th>LYLTY_CARD_NBR</th>\n",
       "      <th>TXN_ID</th>\n",
       "      <th>PROD_NBR</th>\n",
       "      <th>PROD_NAME</th>\n",
       "      <th>PROD_QTY</th>\n",
       "      <th>TOT_SALES</th>\n",
       "      <th>LIFESTAGE</th>\n",
       "      <th>PREMIUM_CUSTOMER</th>\n",
       "    </tr>\n",
       "  </thead>\n",
       "  <tbody>\n",
       "    <tr>\n",
       "      <th>0</th>\n",
       "      <td>43390</td>\n",
       "      <td>1</td>\n",
       "      <td>1000</td>\n",
       "      <td>1</td>\n",
       "      <td>5</td>\n",
       "      <td>Natural Chip        Compny SeaSalt175g</td>\n",
       "      <td>2</td>\n",
       "      <td>6.0</td>\n",
       "      <td>YOUNG SINGLES/COUPLES</td>\n",
       "      <td>Premium</td>\n",
       "    </tr>\n",
       "    <tr>\n",
       "      <th>1</th>\n",
       "      <td>43599</td>\n",
       "      <td>1</td>\n",
       "      <td>1307</td>\n",
       "      <td>348</td>\n",
       "      <td>66</td>\n",
       "      <td>CCs Nacho Cheese    175g</td>\n",
       "      <td>3</td>\n",
       "      <td>6.3</td>\n",
       "      <td>MIDAGE SINGLES/COUPLES</td>\n",
       "      <td>Budget</td>\n",
       "    </tr>\n",
       "    <tr>\n",
       "      <th>2</th>\n",
       "      <td>43605</td>\n",
       "      <td>1</td>\n",
       "      <td>1343</td>\n",
       "      <td>383</td>\n",
       "      <td>61</td>\n",
       "      <td>Smiths Crinkle Cut  Chips Chicken 170g</td>\n",
       "      <td>2</td>\n",
       "      <td>2.9</td>\n",
       "      <td>MIDAGE SINGLES/COUPLES</td>\n",
       "      <td>Budget</td>\n",
       "    </tr>\n",
       "    <tr>\n",
       "      <th>3</th>\n",
       "      <td>43329</td>\n",
       "      <td>2</td>\n",
       "      <td>2373</td>\n",
       "      <td>974</td>\n",
       "      <td>69</td>\n",
       "      <td>Smiths Chip Thinly  S/Cream&amp;Onion 175g</td>\n",
       "      <td>5</td>\n",
       "      <td>15.0</td>\n",
       "      <td>MIDAGE SINGLES/COUPLES</td>\n",
       "      <td>Budget</td>\n",
       "    </tr>\n",
       "    <tr>\n",
       "      <th>4</th>\n",
       "      <td>43330</td>\n",
       "      <td>2</td>\n",
       "      <td>2426</td>\n",
       "      <td>1038</td>\n",
       "      <td>108</td>\n",
       "      <td>Kettle Tortilla ChpsHny&amp;Jlpno Chili 150g</td>\n",
       "      <td>3</td>\n",
       "      <td>13.8</td>\n",
       "      <td>MIDAGE SINGLES/COUPLES</td>\n",
       "      <td>Budget</td>\n",
       "    </tr>\n",
       "    <tr>\n",
       "      <th>...</th>\n",
       "      <td>...</td>\n",
       "      <td>...</td>\n",
       "      <td>...</td>\n",
       "      <td>...</td>\n",
       "      <td>...</td>\n",
       "      <td>...</td>\n",
       "      <td>...</td>\n",
       "      <td>...</td>\n",
       "      <td>...</td>\n",
       "      <td>...</td>\n",
       "    </tr>\n",
       "    <tr>\n",
       "      <th>264831</th>\n",
       "      <td>43533</td>\n",
       "      <td>272</td>\n",
       "      <td>272319</td>\n",
       "      <td>270088</td>\n",
       "      <td>89</td>\n",
       "      <td>Kettle Sweet Chilli And Sour Cream 175g</td>\n",
       "      <td>2</td>\n",
       "      <td>10.8</td>\n",
       "      <td>YOUNG SINGLES/COUPLES</td>\n",
       "      <td>Premium</td>\n",
       "    </tr>\n",
       "    <tr>\n",
       "      <th>264832</th>\n",
       "      <td>43325</td>\n",
       "      <td>272</td>\n",
       "      <td>272358</td>\n",
       "      <td>270154</td>\n",
       "      <td>74</td>\n",
       "      <td>Tostitos Splash Of  Lime 175g</td>\n",
       "      <td>1</td>\n",
       "      <td>4.4</td>\n",
       "      <td>YOUNG SINGLES/COUPLES</td>\n",
       "      <td>Premium</td>\n",
       "    </tr>\n",
       "    <tr>\n",
       "      <th>264833</th>\n",
       "      <td>43410</td>\n",
       "      <td>272</td>\n",
       "      <td>272379</td>\n",
       "      <td>270187</td>\n",
       "      <td>51</td>\n",
       "      <td>Doritos Mexicana    170g</td>\n",
       "      <td>2</td>\n",
       "      <td>8.8</td>\n",
       "      <td>YOUNG SINGLES/COUPLES</td>\n",
       "      <td>Premium</td>\n",
       "    </tr>\n",
       "    <tr>\n",
       "      <th>264834</th>\n",
       "      <td>43461</td>\n",
       "      <td>272</td>\n",
       "      <td>272379</td>\n",
       "      <td>270188</td>\n",
       "      <td>42</td>\n",
       "      <td>Doritos Corn Chip Mexican Jalapeno 150g</td>\n",
       "      <td>2</td>\n",
       "      <td>7.8</td>\n",
       "      <td>YOUNG SINGLES/COUPLES</td>\n",
       "      <td>Premium</td>\n",
       "    </tr>\n",
       "    <tr>\n",
       "      <th>264835</th>\n",
       "      <td>43365</td>\n",
       "      <td>272</td>\n",
       "      <td>272380</td>\n",
       "      <td>270189</td>\n",
       "      <td>74</td>\n",
       "      <td>Tostitos Splash Of  Lime 175g</td>\n",
       "      <td>2</td>\n",
       "      <td>8.8</td>\n",
       "      <td>YOUNG SINGLES/COUPLES</td>\n",
       "      <td>Premium</td>\n",
       "    </tr>\n",
       "  </tbody>\n",
       "</table>\n",
       "<p>264836 rows × 10 columns</p>\n",
       "</div>"
      ],
      "text/plain": [
       "         DATE  STORE_NBR  LYLTY_CARD_NBR  TXN_ID  PROD_NBR  \\\n",
       "0       43390          1            1000       1         5   \n",
       "1       43599          1            1307     348        66   \n",
       "2       43605          1            1343     383        61   \n",
       "3       43329          2            2373     974        69   \n",
       "4       43330          2            2426    1038       108   \n",
       "...       ...        ...             ...     ...       ...   \n",
       "264831  43533        272          272319  270088        89   \n",
       "264832  43325        272          272358  270154        74   \n",
       "264833  43410        272          272379  270187        51   \n",
       "264834  43461        272          272379  270188        42   \n",
       "264835  43365        272          272380  270189        74   \n",
       "\n",
       "                                       PROD_NAME  PROD_QTY  TOT_SALES  \\\n",
       "0         Natural Chip        Compny SeaSalt175g         2        6.0   \n",
       "1                       CCs Nacho Cheese    175g         3        6.3   \n",
       "2         Smiths Crinkle Cut  Chips Chicken 170g         2        2.9   \n",
       "3         Smiths Chip Thinly  S/Cream&Onion 175g         5       15.0   \n",
       "4       Kettle Tortilla ChpsHny&Jlpno Chili 150g         3       13.8   \n",
       "...                                          ...       ...        ...   \n",
       "264831   Kettle Sweet Chilli And Sour Cream 175g         2       10.8   \n",
       "264832             Tostitos Splash Of  Lime 175g         1        4.4   \n",
       "264833                  Doritos Mexicana    170g         2        8.8   \n",
       "264834   Doritos Corn Chip Mexican Jalapeno 150g         2        7.8   \n",
       "264835             Tostitos Splash Of  Lime 175g         2        8.8   \n",
       "\n",
       "                     LIFESTAGE PREMIUM_CUSTOMER  \n",
       "0        YOUNG SINGLES/COUPLES          Premium  \n",
       "1       MIDAGE SINGLES/COUPLES           Budget  \n",
       "2       MIDAGE SINGLES/COUPLES           Budget  \n",
       "3       MIDAGE SINGLES/COUPLES           Budget  \n",
       "4       MIDAGE SINGLES/COUPLES           Budget  \n",
       "...                        ...              ...  \n",
       "264831   YOUNG SINGLES/COUPLES          Premium  \n",
       "264832   YOUNG SINGLES/COUPLES          Premium  \n",
       "264833   YOUNG SINGLES/COUPLES          Premium  \n",
       "264834   YOUNG SINGLES/COUPLES          Premium  \n",
       "264835   YOUNG SINGLES/COUPLES          Premium  \n",
       "\n",
       "[264836 rows x 10 columns]"
      ]
     },
     "execution_count": 25,
     "metadata": {},
     "output_type": "execute_result"
    }
   ],
   "source": [
    "data"
   ]
  },
  {
   "cell_type": "code",
   "execution_count": 15,
   "metadata": {},
   "outputs": [
    {
     "data": {
      "text/plain": [
       "DATE                0\n",
       "STORE_NBR           0\n",
       "LYLTY_CARD_NBR      0\n",
       "TXN_ID              0\n",
       "PROD_NBR            0\n",
       "PROD_NAME           0\n",
       "PROD_QTY            0\n",
       "TOT_SALES           0\n",
       "LIFESTAGE           0\n",
       "PREMIUM_CUSTOMER    0\n",
       "dtype: int64"
      ]
     },
     "execution_count": 15,
     "metadata": {},
     "output_type": "execute_result"
    }
   ],
   "source": [
    "data.isnull().sum()"
   ]
  },
  {
   "cell_type": "markdown",
   "metadata": {},
   "source": [
    "# Top 3 most profitable products "
   ]
  },
  {
   "cell_type": "markdown",
   "metadata": {},
   "source": [
    "- We Dont have any data regarding the price , so we'll just presume the total profit to be proportional to total sales"
   ]
  },
  {
   "cell_type": "code",
   "execution_count": 28,
   "metadata": {},
   "outputs": [],
   "source": [
    "product_revenue = data.groupby(\"PROD_NAME\")[\"TOT_SALES\"].sum()\n",
    "product_quantity = data.groupby(\"PROD_NAME\")[\"PROD_QTY\"].sum()"
   ]
  },
  {
   "cell_type": "code",
   "execution_count": 29,
   "metadata": {},
   "outputs": [],
   "source": [
    "profitability = product_revenue / product_quantity"
   ]
  },
  {
   "cell_type": "code",
   "execution_count": 30,
   "metadata": {},
   "outputs": [],
   "source": [
    "top_profitable_products = profitability.sort_values(ascending=False).head(3)"
   ]
  },
  {
   "cell_type": "code",
   "execution_count": 31,
   "metadata": {},
   "outputs": [
    {
     "name": "stdout",
     "output_type": "stream",
     "text": [
      "Top 3 Most Profitable Products:\n",
      "PROD_NAME\n",
      "Dorito Corn Chp     Supreme 380g            6.199416\n",
      "Smiths Crnkle Chip  Orgnl Big Bag 380g      5.900000\n",
      "Smiths Crinkle Chips Salt & Vinegar 330g    5.700000\n",
      "dtype: float64\n"
     ]
    }
   ],
   "source": [
    "print(\"Top 3 Most Profitable Products:\")\n",
    "print(top_profitable_products)"
   ]
  },
  {
   "cell_type": "markdown",
   "metadata": {},
   "source": [
    "<b>Why did we explore the most profitable product first ? </b>  \n",
    "- because we need to know what drives revenue before linking it back to who buys them."
   ]
  },
  {
   "cell_type": "markdown",
   "metadata": {},
   "source": [
    "## Lets analyze the customer "
   ]
  },
  {
   "cell_type": "markdown",
   "metadata": {},
   "source": [
    "We define a profiltable customer as those who:\n",
    "- Spends the most (TOT_SALES per customer)\n",
    "- Buy frequently (TXN_ID counts per cutomer)\n",
    "- Prefer high-margin(premium) products"
   ]
  },
  {
   "cell_type": "code",
   "execution_count": 35,
   "metadata": {},
   "outputs": [],
   "source": [
    "customer_segments = data.groupby([\"LIFESTAGE\", \"PREMIUM_CUSTOMER\"])[\"TOT_SALES\"].sum().reset_index()\n",
    "customer_segments = customer_segments.sort_values(by=\"TOT_SALES\", ascending=False)"
   ]
  },
  {
   "cell_type": "code",
   "execution_count": 37,
   "metadata": {},
   "outputs": [
    {
     "name": "stdout",
     "output_type": "stream",
     "text": [
      "Top Customer Segments by Total Sales:\n",
      "                 LIFESTAGE PREMIUM_CUSTOMER  TOT_SALES\n",
      "6           OLDER FAMILIES           Budget  168363.25\n",
      "19   YOUNG SINGLES/COUPLES       Mainstream  157621.60\n",
      "13                RETIREES       Mainstream  155677.05\n",
      "15          YOUNG FAMILIES           Budget  139345.85\n",
      "9    OLDER SINGLES/COUPLES           Budget  136769.80\n",
      "10   OLDER SINGLES/COUPLES       Mainstream  133393.80\n",
      "11   OLDER SINGLES/COUPLES          Premium  132263.15\n",
      "12                RETIREES           Budget  113147.80\n",
      "7           OLDER FAMILIES       Mainstream  103445.55\n",
      "14                RETIREES          Premium   97646.05\n",
      "16          YOUNG FAMILIES       Mainstream   92788.75\n",
      "1   MIDAGE SINGLES/COUPLES       Mainstream   90803.85\n",
      "17          YOUNG FAMILIES          Premium   84025.50\n",
      "8           OLDER FAMILIES          Premium   81958.40\n",
      "18   YOUNG SINGLES/COUPLES           Budget   61141.60\n",
      "2   MIDAGE SINGLES/COUPLES          Premium   58432.65\n",
      "20   YOUNG SINGLES/COUPLES          Premium   41642.10\n",
      "0   MIDAGE SINGLES/COUPLES           Budget   35514.80\n",
      "3             NEW FAMILIES           Budget   21928.45\n",
      "4             NEW FAMILIES       Mainstream   17013.90\n",
      "5             NEW FAMILIES          Premium   11491.10\n"
     ]
    }
   ],
   "source": [
    "print(\"Top Customer Segments by Total Sales:\")\n",
    "print(customer_segments)"
   ]
  },
  {
   "cell_type": "markdown",
   "metadata": {},
   "source": [
    "# Most Loyal Customers"
   ]
  },
  {
   "cell_type": "code",
   "execution_count": 39,
   "metadata": {},
   "outputs": [],
   "source": [
    "loyal_customers = data.groupby(\"LYLTY_CARD_NBR\")[\"TXN_ID\"].count().reset_index()\n",
    "loyal_customers = loyal_customers.sort_values(by=\"TXN_ID\", ascending=False)\n",
    "high_spending_customers = data.groupby(\"LYLTY_CARD_NBR\")[\"TOT_SALES\"].sum().reset_index()\n",
    "high_spending_customers = high_spending_customers.sort_values(by=\"TOT_SALES\", ascending=False)\n",
    "loyal_high_spenders = loyal_customers.merge(high_spending_customers, on=\"LYLTY_CARD_NBR\")"
   ]
  },
  {
   "cell_type": "code",
   "execution_count": 42,
   "metadata": {},
   "outputs": [
    {
     "name": "stdout",
     "output_type": "stream",
     "text": [
      "Top Loyal & High-Spending Customers:\n",
      "   LYLTY_CARD_NBR  TXN_ID  TOT_SALES\n",
      "0          162039      18      126.8\n",
      "1          172032      18      120.1\n",
      "2           13138      17      109.0\n",
      "3          116181      17      117.6\n",
      "4          128178      17       99.7\n",
      "5          230078      17      138.6\n",
      "6          105026      16      114.2\n",
      "7          129050      16       93.5\n",
      "8          109036      16      113.0\n",
      "9          222242      16      109.2\n"
     ]
    }
   ],
   "source": [
    "print(\"Top Loyal & High-Spending Customers:\")\n",
    "print(loyal_high_spenders.head(10))\n"
   ]
  },
  {
   "cell_type": "markdown",
   "metadata": {},
   "source": [
    "# Hypothesis on why these customer are loyal"
   ]
  },
  {
   "cell_type": "markdown",
   "metadata": {},
   "source": [
    "- <b> If older families spend the most</b> -> they may prefer bulk-shopping and family sized packs.\n",
    "- <b> If young singles are top buying</b> -> they may prefer small , trendy , on-the-go products\n",
    "- <b> If premium customers dominate sales </b> -> They might be brand-conscious and less price-sensitive\n",
    "- <b> If budget customers buy frequently </b> → They may be discount-driven, needing price promotions."
   ]
  },
  {
   "cell_type": "markdown",
   "metadata": {},
   "source": [
    "# The graph below shows which customer types are most valuable for marketing focus."
   ]
  },
  {
   "cell_type": "code",
   "execution_count": 43,
   "metadata": {},
   "outputs": [
    {
     "data": {
      "image/png": "[encoded data removed]",
      "text/plain": [
       "<Figure size 1000x500 with 1 Axes>"
      ]
     },
     "metadata": {},
     "output_type": "display_data"
    }
   ],
   "source": [
    "import matplotlib.pyplot as plt\n",
    "\n",
    "plt.figure(figsize=(10,5))\n",
    "plt.barh(customer_segments[\"LIFESTAGE\"] + \" - \" + customer_segments[\"PREMIUM_CUSTOMER\"], \n",
    "         customer_segments[\"TOT_SALES\"], color=\"lightcoral\")\n",
    "\n",
    "plt.xlabel(\"Total Sales\")\n",
    "plt.ylabel(\"Customer Segment\")\n",
    "plt.title(\"Most Profitable Customer Segments\")\n",
    "plt.gca().invert_yaxis()\n",
    "plt.show()\n"
   ]
  },
  {
   "cell_type": "markdown",
   "metadata": {},
   "source": [
    "# Final Deliverables to the marketing team\n"
   ]
  },
  {
   "cell_type": "markdown",
   "metadata": {},
   "source": [
    "- **Top 3 BestSeling products**:\n",
    "    - Dorito Corn Chp     Supreme 380g         \n",
    "    - Smiths Crnkle Chip  Orgnl Big Bag 380g     \n",
    "    - Smiths Crinkle Chips Salt & Vinegar 330g   "
   ]
  },
  {
   "cell_type": "markdown",
   "metadata": {},
   "source": [
    "- **Most Profitable customer segments**: \n",
    "    - Older Familis (Budget)\n",
    "        - Likely purchase in bulk for family needs.\n",
    "        - **Marketing Strategy**: Offer family-size packs, bulk discounts, and loyalty rewards\n",
    "    - Young singles/ Couples (mainstream)\n",
    "        - May prefer snacking, convenience, and trendy products.\n",
    "        - **Marketing Strategy**: Target them with smaller pack sizes, premium snack options, and online promotions.\n",
    "    - Retirees (Mainstream/budget)\n",
    "        - Likely loyal to brands & consistent buyers.\n",
    "        - **Marketing Strategy**: Offer membership discounts, bundle deals, and promotions for frequently purchased items.\n",
    "    - Young Families (Budget & Mainstream):\n",
    "        - Need cost-effective options for a growing family\n",
    "        - Marketing Strategy: Promote family-friendly multipacks & budget-friendly deals.\n",
    "    - Premium Customers \n",
    "        - They buy high-quality products but in lower volumes.\n",
    "        - **Marketing Strategy**: Introduce luxury, healthier, and exclusive product lines.\n"
   ]
  },
  {
   "cell_type": "markdown",
   "metadata": {},
   "source": [
    "- **Loyal customer traits:**\n",
    "    - **If older families spend the most** -> They may prefer bulk-shopping and family-sized packs.\n",
    "    - **If young singles are top buyers** -> They may prefer small, trendy, on-the-go products.\n",
    "    - **If premium customers dominate sales** -> They might be brand-conscious and less price-sensitive.\n",
    "    - **If budget customers buy frequently** -> They may be discount-driven, needing price promotions."
   ]
  }
 ],
 "metadata": {
  "kernelspec": {
   "display_name": "Python 3",
   "language": "python",
   "name": "python3"
  },
  "language_info": {
   "codemirror_mode": {
    "name": "ipython",
    "version": 3
   },
   "file_extension": ".py",
   "mimetype": "text/x-python",
   "name": "python",
   "nbconvert_exporter": "python",
   "pygments_lexer": "ipython3",
   "version": "3.11.9"
  }
 },
 "nbformat": 4,
 "nbformat_minor": 2
}
